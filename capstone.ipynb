{
 "cells": [
  {
   "cell_type": "code",
   "execution_count": 1,
   "metadata": {},
   "outputs": [],
   "source": [
    "# Import libraries\n",
    "import pandas as pd\n",
    "import numpy as np\n",
    "import matplotlib.pyplot as plt\n",
    "import seaborn as sns"
   ]
  },
  {
   "cell_type": "code",
   "execution_count": 2,
   "metadata": {},
   "outputs": [],
   "source": [
    "# Seed random number generator\n",
    "np.random.seed(16378429)"
   ]
  },
  {
   "cell_type": "code",
   "execution_count": 3,
   "metadata": {},
   "outputs": [
    {
     "name": "stdout",
     "output_type": "stream",
     "text": [
      "(89893, 11)\n"
     ]
    },
    {
     "data": {
      "application/vnd.microsoft.datawrangler.viewer.v0+json": {
       "columns": [
        {
         "name": "index",
         "rawType": "int64",
         "type": "integer"
        },
        {
         "name": "Average_Rating",
         "rawType": "float64",
         "type": "float"
        },
        {
         "name": "Average_Difficulty",
         "rawType": "float64",
         "type": "float"
        },
        {
         "name": "Number_of_Ratings",
         "rawType": "float64",
         "type": "float"
        },
        {
         "name": "Has_Pepper",
         "rawType": "float64",
         "type": "float"
        },
        {
         "name": "Would_Take_Again_Proportion",
         "rawType": "float64",
         "type": "float"
        },
        {
         "name": "Online_Class_Ratings",
         "rawType": "float64",
         "type": "float"
        },
        {
         "name": "Male",
         "rawType": "int64",
         "type": "integer"
        },
        {
         "name": "Female",
         "rawType": "int64",
         "type": "integer"
        },
        {
         "name": "Field",
         "rawType": "object",
         "type": "unknown"
        },
        {
         "name": "University",
         "rawType": "object",
         "type": "unknown"
        },
        {
         "name": "State",
         "rawType": "object",
         "type": "unknown"
        }
       ],
       "conversionMethod": "pd.DataFrame",
       "ref": "5a1d7548-09f1-46b9-9d1d-abde641b7bcd",
       "rows": [
        [
         "0",
         "5.0",
         "1.5",
         "2.0",
         "0.0",
         null,
         "0.0",
         "0",
         "1",
         "Criminal Justice",
         "George Mason University",
         "VA"
        ],
        [
         "1",
         null,
         null,
         null,
         null,
         null,
         null,
         "0",
         "0",
         null,
         null,
         null
        ],
        [
         "2",
         "3.2",
         "3.0",
         "4.0",
         "0.0",
         null,
         "0.0",
         "1",
         "0",
         "English",
         "Alabama State University",
         "AL"
        ],
        [
         "3",
         "3.6",
         "3.5",
         "10.0",
         "1.0",
         null,
         "0.0",
         "0",
         "0",
         "English",
         "University of Kentucky",
         "KY"
        ],
        [
         "4",
         "1.0",
         "5.0",
         "1.0",
         "0.0",
         null,
         "0.0",
         "0",
         "0",
         "English",
         "Keiser University",
         "FL"
        ]
       ],
       "shape": {
        "columns": 11,
        "rows": 5
       }
      },
      "text/html": [
       "<div>\n",
       "<style scoped>\n",
       "    .dataframe tbody tr th:only-of-type {\n",
       "        vertical-align: middle;\n",
       "    }\n",
       "\n",
       "    .dataframe tbody tr th {\n",
       "        vertical-align: top;\n",
       "    }\n",
       "\n",
       "    .dataframe thead th {\n",
       "        text-align: right;\n",
       "    }\n",
       "</style>\n",
       "<table border=\"1\" class=\"dataframe\">\n",
       "  <thead>\n",
       "    <tr style=\"text-align: right;\">\n",
       "      <th></th>\n",
       "      <th>Average_Rating</th>\n",
       "      <th>Average_Difficulty</th>\n",
       "      <th>Number_of_Ratings</th>\n",
       "      <th>Has_Pepper</th>\n",
       "      <th>Would_Take_Again_Proportion</th>\n",
       "      <th>Online_Class_Ratings</th>\n",
       "      <th>Male</th>\n",
       "      <th>Female</th>\n",
       "      <th>Field</th>\n",
       "      <th>University</th>\n",
       "      <th>State</th>\n",
       "    </tr>\n",
       "  </thead>\n",
       "  <tbody>\n",
       "    <tr>\n",
       "      <th>0</th>\n",
       "      <td>5.0</td>\n",
       "      <td>1.5</td>\n",
       "      <td>2.0</td>\n",
       "      <td>0.0</td>\n",
       "      <td>NaN</td>\n",
       "      <td>0.0</td>\n",
       "      <td>0</td>\n",
       "      <td>1</td>\n",
       "      <td>Criminal Justice</td>\n",
       "      <td>George Mason University</td>\n",
       "      <td>VA</td>\n",
       "    </tr>\n",
       "    <tr>\n",
       "      <th>1</th>\n",
       "      <td>NaN</td>\n",
       "      <td>NaN</td>\n",
       "      <td>NaN</td>\n",
       "      <td>NaN</td>\n",
       "      <td>NaN</td>\n",
       "      <td>NaN</td>\n",
       "      <td>0</td>\n",
       "      <td>0</td>\n",
       "      <td>NaN</td>\n",
       "      <td>NaN</td>\n",
       "      <td>NaN</td>\n",
       "    </tr>\n",
       "    <tr>\n",
       "      <th>2</th>\n",
       "      <td>3.2</td>\n",
       "      <td>3.0</td>\n",
       "      <td>4.0</td>\n",
       "      <td>0.0</td>\n",
       "      <td>NaN</td>\n",
       "      <td>0.0</td>\n",
       "      <td>1</td>\n",
       "      <td>0</td>\n",
       "      <td>English</td>\n",
       "      <td>Alabama State University</td>\n",
       "      <td>AL</td>\n",
       "    </tr>\n",
       "    <tr>\n",
       "      <th>3</th>\n",
       "      <td>3.6</td>\n",
       "      <td>3.5</td>\n",
       "      <td>10.0</td>\n",
       "      <td>1.0</td>\n",
       "      <td>NaN</td>\n",
       "      <td>0.0</td>\n",
       "      <td>0</td>\n",
       "      <td>0</td>\n",
       "      <td>English</td>\n",
       "      <td>University of Kentucky</td>\n",
       "      <td>KY</td>\n",
       "    </tr>\n",
       "    <tr>\n",
       "      <th>4</th>\n",
       "      <td>1.0</td>\n",
       "      <td>5.0</td>\n",
       "      <td>1.0</td>\n",
       "      <td>0.0</td>\n",
       "      <td>NaN</td>\n",
       "      <td>0.0</td>\n",
       "      <td>0</td>\n",
       "      <td>0</td>\n",
       "      <td>English</td>\n",
       "      <td>Keiser University</td>\n",
       "      <td>FL</td>\n",
       "    </tr>\n",
       "  </tbody>\n",
       "</table>\n",
       "</div>"
      ],
      "text/plain": [
       "   Average_Rating  Average_Difficulty  Number_of_Ratings  Has_Pepper  \\\n",
       "0             5.0                 1.5                2.0         0.0   \n",
       "1             NaN                 NaN                NaN         NaN   \n",
       "2             3.2                 3.0                4.0         0.0   \n",
       "3             3.6                 3.5               10.0         1.0   \n",
       "4             1.0                 5.0                1.0         0.0   \n",
       "\n",
       "   Would_Take_Again_Proportion  Online_Class_Ratings  Male  Female  \\\n",
       "0                          NaN                   0.0     0       1   \n",
       "1                          NaN                   NaN     0       0   \n",
       "2                          NaN                   0.0     1       0   \n",
       "3                          NaN                   0.0     0       0   \n",
       "4                          NaN                   0.0     0       0   \n",
       "\n",
       "              Field                University State  \n",
       "0  Criminal Justice   George Mason University    VA  \n",
       "1               NaN                       NaN   NaN  \n",
       "2           English  Alabama State University    AL  \n",
       "3           English    University of Kentucky    KY  \n",
       "4           English         Keiser University    FL  "
      ]
     },
     "execution_count": 3,
     "metadata": {},
     "output_type": "execute_result"
    }
   ],
   "source": [
    "# Load numerical data\n",
    "numeric_df = pd.read_csv('rmpCapstoneNum.csv', header=None)\n",
    "\n",
    "# Assign column names\n",
    "numeric_df.columns = [\n",
    "    'Average_Rating',\n",
    "    'Average_Difficulty',\n",
    "    'Number_of_Ratings',\n",
    "    'Has_Pepper',\n",
    "    'Would_Take_Again_Proportion',\n",
    "    'Online_Class_Ratings',\n",
    "    'Male',\n",
    "    'Female'\n",
    "]\n",
    "\n",
    "# Load qualitative data\n",
    "qual_df = pd.read_csv('rmpCapstoneQual.csv', header=None)\n",
    "\n",
    "# Assign column names\n",
    "qual_df.columns = [\n",
    "    'Field',\n",
    "    'University',\n",
    "    'State'\n",
    "]\n",
    "\n",
    "# Merge dataframes\n",
    "df = pd.concat([numeric_df, qual_df], axis=1)\n",
    "\n",
    "# Check df\n",
    "print(df.shape)\n",
    "df.head()"
   ]
  },
  {
   "cell_type": "code",
   "execution_count": 4,
   "metadata": {},
   "outputs": [
    {
     "name": "stdout",
     "output_type": "stream",
     "text": [
      "Missing values per column\n",
      " Average_Rating                 19889\n",
      "Average_Difficulty             19889\n",
      "Number_of_Ratings              19889\n",
      "Has_Pepper                     19889\n",
      "Would_Take_Again_Proportion    77733\n",
      "Online_Class_Ratings           19889\n",
      "Male                               0\n",
      "Female                             0\n",
      "Field                          19889\n",
      "University                     19889\n",
      "State                          19889\n",
      "dtype: int64\n",
      "\n",
      "Basic stats for numerical cols:\n",
      "        Average_Rating  Average_Difficulty  Number_of_Ratings    Has_Pepper  \\\n",
      "count    70004.000000        70004.000000       70004.000000  70004.000000   \n",
      "mean         3.808014            2.864623           5.374721      0.279927   \n",
      "std          1.126895            0.991064           8.136628      0.448966   \n",
      "min          1.000000            1.000000           1.000000      0.000000   \n",
      "25%          3.000000            2.000000           1.000000      0.000000   \n",
      "50%          4.000000            3.000000           3.000000      0.000000   \n",
      "75%          4.800000            3.500000           6.000000      1.000000   \n",
      "max          5.000000            5.000000         393.000000      1.000000   \n",
      "\n",
      "       Would_Take_Again_Proportion  Online_Class_Ratings          Male  \\\n",
      "count                 12160.000000          70004.000000  89893.000000   \n",
      "mean                     76.417105              0.315611      0.326789   \n",
      "std                      25.011441              1.054728      0.469042   \n",
      "min                       4.000000              0.000000      0.000000   \n",
      "25%                      60.000000              0.000000      0.000000   \n",
      "50%                      83.000000              0.000000      0.000000   \n",
      "75%                     100.000000              0.000000      1.000000   \n",
      "max                     100.000000             19.000000      1.000000   \n",
      "\n",
      "             Female  \n",
      "count  89893.000000  \n",
      "mean       0.301903  \n",
      "std        0.459086  \n",
      "min        0.000000  \n",
      "25%        0.000000  \n",
      "50%        0.000000  \n",
      "75%        1.000000  \n",
      "max        1.000000  \n",
      "\n",
      "Data types:\n",
      " Average_Rating                 float64\n",
      "Average_Difficulty             float64\n",
      "Number_of_Ratings              float64\n",
      "Has_Pepper                     float64\n",
      "Would_Take_Again_Proportion    float64\n",
      "Online_Class_Ratings           float64\n",
      "Male                             int64\n",
      "Female                           int64\n",
      "Field                           object\n",
      "University                      object\n",
      "State                           object\n",
      "dtype: object\n"
     ]
    }
   ],
   "source": [
    "# Check data\n",
    "print(\"Missing values per column\\n\", df.isnull().sum())\n",
    "\n",
    "print(\"\\nBasic stats for numerical cols:\\n\", df.describe())\n",
    "\n",
    "print(\"\\nData types:\\n\", df.dtypes)\n"
   ]
  },
  {
   "cell_type": "code",
   "execution_count": 5,
   "metadata": {},
   "outputs": [],
   "source": [
    "# Convert booleans\n",
    "boolean_columns = ['Has_Pepper', 'Male', 'Female']\n",
    "for col in boolean_columns:\n",
    "    if df[col].dtype != bool:\n",
    "        df[col] = df[col].astype(bool)"
   ]
  },
  {
   "cell_type": "code",
   "execution_count": 6,
   "metadata": {},
   "outputs": [
    {
     "name": "stdout",
     "output_type": "stream",
     "text": [
      "\n",
      "Remaining missing values after preprocessing:\n",
      "Average_Rating                 0\n",
      "Average_Difficulty             0\n",
      "Number_of_Ratings              0\n",
      "Has_Pepper                     0\n",
      "Would_Take_Again_Proportion    0\n",
      "Online_Class_Ratings           0\n",
      "Male                           0\n",
      "Female                         0\n",
      "Field                          0\n",
      "University                     0\n",
      "State                          0\n",
      "dtype: int64\n"
     ]
    },
    {
     "name": "stderr",
     "output_type": "stream",
     "text": [
      "/var/folders/l8/zdy0wnpn1kgbl421430sxvlm0000gn/T/ipykernel_25013/2985126907.py:13: FutureWarning: A value is trying to be set on a copy of a DataFrame or Series through chained assignment using an inplace method.\n",
      "The behavior will change in pandas 3.0. This inplace method will never work because the intermediate object on which we are setting values always behaves as a copy.\n",
      "\n",
      "For example, when doing 'df[col].method(value, inplace=True)', try using 'df.method({col: value}, inplace=True)' or df[col] = df[col].method(value) instead, to perform the operation inplace on the original object.\n",
      "\n",
      "\n",
      "  df[col].fillna(df[col].median(), inplace=True)\n",
      "/var/folders/l8/zdy0wnpn1kgbl421430sxvlm0000gn/T/ipykernel_25013/2985126907.py:18: FutureWarning: A value is trying to be set on a copy of a DataFrame or Series through chained assignment using an inplace method.\n",
      "The behavior will change in pandas 3.0. This inplace method will never work because the intermediate object on which we are setting values always behaves as a copy.\n",
      "\n",
      "For example, when doing 'df[col].method(value, inplace=True)', try using 'df.method({col: value}, inplace=True)' or df[col] = df[col].method(value) instead, to perform the operation inplace on the original object.\n",
      "\n",
      "\n",
      "  df[col].fillna(df[col].mode()[0], inplace=True)\n"
     ]
    }
   ],
   "source": [
    "# TEMP\n",
    "\n",
    "\n",
    "# Basic preprocessing - handle missing values\n",
    "\n",
    "# For numerical columns, fill with median\n",
    "# Conservative approach for bools, replaces missing with False\n",
    "for col in numeric_df.columns:\n",
    "    if df[col].isnull().sum() > 0:\n",
    "        if col in boolean_columns:\n",
    "            df[col].fillna(False, inplace=True)\n",
    "        else:\n",
    "            df[col].fillna(df[col].median(), inplace=True)\n",
    "\n",
    "# For categorical columns, fill with mode\n",
    "for col in qual_df.columns:\n",
    "    if df[col].isnull().sum() > 0:\n",
    "        df[col].fillna(df[col].mode()[0], inplace=True)\n",
    "\n",
    "# Check if we've handled all missing values\n",
    "print(\"\\nRemaining missing values after preprocessing:\")\n",
    "print(df.isnull().sum())"
   ]
  }
 ],
 "metadata": {
  "kernelspec": {
   "display_name": "base",
   "language": "python",
   "name": "python3"
  },
  "language_info": {
   "codemirror_mode": {
    "name": "ipython",
    "version": 3
   },
   "file_extension": ".py",
   "mimetype": "text/x-python",
   "name": "python",
   "nbconvert_exporter": "python",
   "pygments_lexer": "ipython3",
   "version": "3.12.7"
  }
 },
 "nbformat": 4,
 "nbformat_minor": 2
}
